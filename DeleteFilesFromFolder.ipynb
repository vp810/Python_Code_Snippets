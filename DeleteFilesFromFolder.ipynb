{
 "cells": [
  {
   "cell_type": "code",
   "execution_count": 7,
   "id": "4f5afe1b-2816-429a-aaf4-c21bd1b3671d",
   "metadata": {},
   "outputs": [
    {
     "name": "stdout",
     "output_type": "stream",
     "text": [
      "Removed all matched files!\n"
     ]
    }
   ],
   "source": [
    "import os, glob\n",
    "    \n",
    "# Getting All Files List\n",
    "fileList = glob.glob('C:/DeleteMeTest/*.csv', recursive=True)\n",
    "      \n",
    "# Remove all files one by one\n",
    "for file in fileList:\n",
    "    try:\n",
    "        os.remove(file)\n",
    "    except OSError:\n",
    "        print(\"Error while deleting file\")\n",
    "  \n",
    "print(\"Removed all matched files!\")\n",
    "\n"
   ]
  },
  {
   "cell_type": "code",
   "execution_count": null,
   "id": "a301c4f6-db38-4a13-ab00-736a30ae0ab9",
   "metadata": {},
   "outputs": [],
   "source": []
  }
 ],
 "metadata": {
  "kernelspec": {
   "display_name": "Python 3 (ipykernel)",
   "language": "python",
   "name": "python3"
  },
  "language_info": {
   "codemirror_mode": {
    "name": "ipython",
    "version": 3
   },
   "file_extension": ".py",
   "mimetype": "text/x-python",
   "name": "python",
   "nbconvert_exporter": "python",
   "pygments_lexer": "ipython3",
   "version": "3.12.1"
  }
 },
 "nbformat": 4,
 "nbformat_minor": 5
}
